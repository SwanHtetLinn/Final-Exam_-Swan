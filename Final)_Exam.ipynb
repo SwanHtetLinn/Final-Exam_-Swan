{
  "nbformat": 4,
  "nbformat_minor": 0,
  "metadata": {
    "colab": {
      "provenance": []
    },
    "kernelspec": {
      "name": "python3",
      "display_name": "Python 3"
    },
    "language_info": {
      "name": "python"
    }
  },
  "cells": [
    {
      "cell_type": "code",
      "execution_count": 4,
      "metadata": {
        "colab": {
          "base_uri": "https://localhost:8080/"
        },
        "id": "8Vu8GJsvzV7i",
        "outputId": "cc63ff2a-a599-40a6-d7fb-33b971f43304"
      },
      "outputs": [
        {
          "output_type": "stream",
          "name": "stdout",
          "text": [
            "United States\n",
            "                 Name                   Data\n",
            "0                city              Cupertino\n",
            "1               phone           408 996 1010\n",
            "2               state                     CA\n",
            "3             country          United States\n",
            "4             website  https://www.apple.com\n",
            "5   recommendationKey                    buy\n",
            "6       gross profits           152836000000\n",
            "7        freeCashflow            73295003648\n",
            "8   targetMedianPrice                    170\n",
            "9        currentPrice                 174.56\n",
            "10     earningsGrowth                  0.662\n",
            "11       currentRatio                  1.075\n",
            "<class 'pandas.core.frame.DataFrame'>\n"
          ]
        }
      ],
      "source": [
        "# Q1. Information about the apple company is given in the below variable b, (10 points) \n",
        "# Write the python codes (not more than 5 lines) to\n",
        "\n",
        "# Find out where (the country) the Apple company is located and what is its gross profits. Print out your answer. \n",
        "# convert the variable 'b' to Pandas dataframe (Hint: refer to the internet how to convert from dictionary to data frame). \n",
        "\n",
        "# The location of Apple Company\n",
        "b = {'city': 'Cupertino', 'phone': '408 996 1010', 'state': 'CA', 'country': 'United States', 'website': 'https://www.apple.com', 'recommendationKey': 'buy', 'gross profits': 152836000000, 'freeCashflow': 73295003648, 'targetMedianPrice': 170, 'currentPrice': 174.56, 'earningsGrowth': 0.662, 'currentRatio': 1.075}\n",
        "print(b['country'])\n",
        "\n",
        "import pandas as pd\n",
        "df = pd.DataFrame(list(b.items()),columns = ['Name','Data']) \n",
        "print (df)\n",
        "print (type(df))"
      ]
    },
    {
      "cell_type": "code",
      "source": [
        "df = pd.read_csv('rentals.csv')\n",
        "df.columns"
      ],
      "metadata": {
        "colab": {
          "base_uri": "https://localhost:8080/"
        },
        "id": "wWa5C8hn1-vb",
        "outputId": "33669d3f-a657-4c3d-96e0-dd0df3fc0166"
      },
      "execution_count": 7,
      "outputs": [
        {
          "output_type": "execute_result",
          "data": {
            "text/plain": [
              "Index(['id', 'latitude', 'longitude', 'property_type', 'room_type',\n",
              "       'bathrooms', 'bedrooms', 'minimum_nights', 'price'],\n",
              "      dtype='object')"
            ]
          },
          "metadata": {},
          "execution_count": 7
        }
      ]
    },
    {
      "cell_type": "code",
      "source": [
        "# Write one-line python code (using groupby function) to print the average price of houses for each property type and\n",
        "\n",
        "df1=df.groupby('property_type')[['price']].mean()\n",
        "df1\n",
        " "
      ],
      "metadata": {
        "colab": {
          "base_uri": "https://localhost:8080/",
          "height": 934
        },
        "id": "vCEqIAQL0gQF",
        "outputId": "8dd96e88-e96a-4f6c-9396-e9f908ab72f3"
      },
      "execution_count": 17,
      "outputs": [
        {
          "output_type": "stream",
          "name": "stderr",
          "text": [
            "/usr/local/lib/python3.8/dist-packages/IPython/core/interactiveshell.py:3326: FutureWarning: Dropping invalid columns in DataFrameGroupBy.mean is deprecated. In a future version, a TypeError will be raised. Before calling .mean, select only columns which should be valid for the function.\n",
            "  exec(code_obj, self.user_global_ns, self.user_ns)\n"
          ]
        },
        {
          "output_type": "execute_result",
          "data": {
            "text/plain": [
              "Empty DataFrame\n",
              "Columns: []\n",
              "Index: [Aparthotel, Apartment, Bed and breakfast, Boutique hotel, Bungalow, Cabin, Camper/RV, Castle, Condominium, Cottage, Dome house, Earth house, Guest suite, Guesthouse, Hostel, Hotel, House, Hut, In-law, Loft, Other, Resort, Serviced apartment, Tiny house, Townhouse, Villa]"
            ],
            "text/html": [
              "\n",
              "  <div id=\"df-8e8c9a5b-a82b-4cce-a732-7b857644f413\">\n",
              "    <div class=\"colab-df-container\">\n",
              "      <div>\n",
              "<style scoped>\n",
              "    .dataframe tbody tr th:only-of-type {\n",
              "        vertical-align: middle;\n",
              "    }\n",
              "\n",
              "    .dataframe tbody tr th {\n",
              "        vertical-align: top;\n",
              "    }\n",
              "\n",
              "    .dataframe thead th {\n",
              "        text-align: right;\n",
              "    }\n",
              "</style>\n",
              "<table border=\"1\" class=\"dataframe\">\n",
              "  <thead>\n",
              "    <tr style=\"text-align: right;\">\n",
              "      <th></th>\n",
              "    </tr>\n",
              "    <tr>\n",
              "      <th>property_type</th>\n",
              "    </tr>\n",
              "  </thead>\n",
              "  <tbody>\n",
              "    <tr>\n",
              "      <th>Aparthotel</th>\n",
              "    </tr>\n",
              "    <tr>\n",
              "      <th>Apartment</th>\n",
              "    </tr>\n",
              "    <tr>\n",
              "      <th>Bed and breakfast</th>\n",
              "    </tr>\n",
              "    <tr>\n",
              "      <th>Boutique hotel</th>\n",
              "    </tr>\n",
              "    <tr>\n",
              "      <th>Bungalow</th>\n",
              "    </tr>\n",
              "    <tr>\n",
              "      <th>Cabin</th>\n",
              "    </tr>\n",
              "    <tr>\n",
              "      <th>Camper/RV</th>\n",
              "    </tr>\n",
              "    <tr>\n",
              "      <th>Castle</th>\n",
              "    </tr>\n",
              "    <tr>\n",
              "      <th>Condominium</th>\n",
              "    </tr>\n",
              "    <tr>\n",
              "      <th>Cottage</th>\n",
              "    </tr>\n",
              "    <tr>\n",
              "      <th>Dome house</th>\n",
              "    </tr>\n",
              "    <tr>\n",
              "      <th>Earth house</th>\n",
              "    </tr>\n",
              "    <tr>\n",
              "      <th>Guest suite</th>\n",
              "    </tr>\n",
              "    <tr>\n",
              "      <th>Guesthouse</th>\n",
              "    </tr>\n",
              "    <tr>\n",
              "      <th>Hostel</th>\n",
              "    </tr>\n",
              "    <tr>\n",
              "      <th>Hotel</th>\n",
              "    </tr>\n",
              "    <tr>\n",
              "      <th>House</th>\n",
              "    </tr>\n",
              "    <tr>\n",
              "      <th>Hut</th>\n",
              "    </tr>\n",
              "    <tr>\n",
              "      <th>In-law</th>\n",
              "    </tr>\n",
              "    <tr>\n",
              "      <th>Loft</th>\n",
              "    </tr>\n",
              "    <tr>\n",
              "      <th>Other</th>\n",
              "    </tr>\n",
              "    <tr>\n",
              "      <th>Resort</th>\n",
              "    </tr>\n",
              "    <tr>\n",
              "      <th>Serviced apartment</th>\n",
              "    </tr>\n",
              "    <tr>\n",
              "      <th>Tiny house</th>\n",
              "    </tr>\n",
              "    <tr>\n",
              "      <th>Townhouse</th>\n",
              "    </tr>\n",
              "    <tr>\n",
              "      <th>Villa</th>\n",
              "    </tr>\n",
              "  </tbody>\n",
              "</table>\n",
              "</div>\n",
              "      <button class=\"colab-df-convert\" onclick=\"convertToInteractive('df-8e8c9a5b-a82b-4cce-a732-7b857644f413')\"\n",
              "              title=\"Convert this dataframe to an interactive table.\"\n",
              "              style=\"display:none;\">\n",
              "        \n",
              "  <svg xmlns=\"http://www.w3.org/2000/svg\" height=\"24px\"viewBox=\"0 0 24 24\"\n",
              "       width=\"24px\">\n",
              "    <path d=\"M0 0h24v24H0V0z\" fill=\"none\"/>\n",
              "    <path d=\"M18.56 5.44l.94 2.06.94-2.06 2.06-.94-2.06-.94-.94-2.06-.94 2.06-2.06.94zm-11 1L8.5 8.5l.94-2.06 2.06-.94-2.06-.94L8.5 2.5l-.94 2.06-2.06.94zm10 10l.94 2.06.94-2.06 2.06-.94-2.06-.94-.94-2.06-.94 2.06-2.06.94z\"/><path d=\"M17.41 7.96l-1.37-1.37c-.4-.4-.92-.59-1.43-.59-.52 0-1.04.2-1.43.59L10.3 9.45l-7.72 7.72c-.78.78-.78 2.05 0 2.83L4 21.41c.39.39.9.59 1.41.59.51 0 1.02-.2 1.41-.59l7.78-7.78 2.81-2.81c.8-.78.8-2.07 0-2.86zM5.41 20L4 18.59l7.72-7.72 1.47 1.35L5.41 20z\"/>\n",
              "  </svg>\n",
              "      </button>\n",
              "      \n",
              "  <style>\n",
              "    .colab-df-container {\n",
              "      display:flex;\n",
              "      flex-wrap:wrap;\n",
              "      gap: 12px;\n",
              "    }\n",
              "\n",
              "    .colab-df-convert {\n",
              "      background-color: #E8F0FE;\n",
              "      border: none;\n",
              "      border-radius: 50%;\n",
              "      cursor: pointer;\n",
              "      display: none;\n",
              "      fill: #1967D2;\n",
              "      height: 32px;\n",
              "      padding: 0 0 0 0;\n",
              "      width: 32px;\n",
              "    }\n",
              "\n",
              "    .colab-df-convert:hover {\n",
              "      background-color: #E2EBFA;\n",
              "      box-shadow: 0px 1px 2px rgba(60, 64, 67, 0.3), 0px 1px 3px 1px rgba(60, 64, 67, 0.15);\n",
              "      fill: #174EA6;\n",
              "    }\n",
              "\n",
              "    [theme=dark] .colab-df-convert {\n",
              "      background-color: #3B4455;\n",
              "      fill: #D2E3FC;\n",
              "    }\n",
              "\n",
              "    [theme=dark] .colab-df-convert:hover {\n",
              "      background-color: #434B5C;\n",
              "      box-shadow: 0px 1px 3px 1px rgba(0, 0, 0, 0.15);\n",
              "      filter: drop-shadow(0px 1px 2px rgba(0, 0, 0, 0.3));\n",
              "      fill: #FFFFFF;\n",
              "    }\n",
              "  </style>\n",
              "\n",
              "      <script>\n",
              "        const buttonEl =\n",
              "          document.querySelector('#df-8e8c9a5b-a82b-4cce-a732-7b857644f413 button.colab-df-convert');\n",
              "        buttonEl.style.display =\n",
              "          google.colab.kernel.accessAllowed ? 'block' : 'none';\n",
              "\n",
              "        async function convertToInteractive(key) {\n",
              "          const element = document.querySelector('#df-8e8c9a5b-a82b-4cce-a732-7b857644f413');\n",
              "          const dataTable =\n",
              "            await google.colab.kernel.invokeFunction('convertToInteractive',\n",
              "                                                     [key], {});\n",
              "          if (!dataTable) return;\n",
              "\n",
              "          const docLinkHtml = 'Like what you see? Visit the ' +\n",
              "            '<a target=\"_blank\" href=https://colab.research.google.com/notebooks/data_table.ipynb>data table notebook</a>'\n",
              "            + ' to learn more about interactive tables.';\n",
              "          element.innerHTML = '';\n",
              "          dataTable['output_type'] = 'display_data';\n",
              "          await google.colab.output.renderOutput(dataTable, element);\n",
              "          const docLink = document.createElement('div');\n",
              "          docLink.innerHTML = docLinkHtml;\n",
              "          element.appendChild(docLink);\n",
              "        }\n",
              "      </script>\n",
              "    </div>\n",
              "  </div>\n",
              "  "
            ]
          },
          "metadata": {},
          "execution_count": 17
        }
      ]
    },
    {
      "cell_type": "code",
      "source": [
        "# write Python codes (not more than 5 lines) to draw a boxplot graph to visualize the price distribution based on the property type. (15 points) \n",
        "\n",
        "import matplotlib.pyplot as plt\n",
        "plt.figure(figsize = (12, 5))\n",
        "Aparthotel = df[df['property_type']=='Aparthotel']\n",
        "Apartment = df[df['property_type']=='Apartment']\n",
        "\n",
        "plt.boxplot([Aparthotel['property_type'], Apartment['property_type']], labels = ['Aparthotel', 'Apartment])\n",
        "plt.show()\n"
      ],
      "metadata": {
        "colab": {
          "base_uri": "https://localhost:8080/",
          "height": 133
        },
        "id": "4SRu0ZA01nUf",
        "outputId": "2e17d612-038f-4892-e045-ca74f5f46f5c"
      },
      "execution_count": 22,
      "outputs": [
        {
          "output_type": "error",
          "ename": "SyntaxError",
          "evalue": "ignored",
          "traceback": [
            "\u001b[0;36m  File \u001b[0;32m\"<ipython-input-22-410dab17c35c>\"\u001b[0;36m, line \u001b[0;32m8\u001b[0m\n\u001b[0;31m    plt.boxplot([Aparthotel['property_type'], Apartment['property_type']], labels = ['Aparthotel', 'Apartment])\u001b[0m\n\u001b[0m                                                                                                               ^\u001b[0m\n\u001b[0;31mSyntaxError\u001b[0m\u001b[0;31m:\u001b[0m EOL while scanning string literal\n"
          ]
        }
      ]
    },
    {
      "cell_type": "code",
      "source": [],
      "metadata": {
        "id": "6yJrUXMW3x-I"
      },
      "execution_count": null,
      "outputs": []
    }
  ]
}